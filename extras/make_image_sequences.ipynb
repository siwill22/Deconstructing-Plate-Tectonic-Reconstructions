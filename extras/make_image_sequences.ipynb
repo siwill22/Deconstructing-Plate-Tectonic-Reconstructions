{
 "cells": [
  {
   "cell_type": "code",
   "execution_count": 1,
   "id": "419305a0-d717-4563-a95a-d5c11821e7a7",
   "metadata": {},
   "outputs": [
    {
     "data": {
      "text/plain": [
       "<pygmt.src.config.config at 0x7fd55bf36310>"
      ]
     },
     "execution_count": 1,
     "metadata": {},
     "output_type": "execute_result"
    }
   ],
   "source": [
    "import pygplates\n",
    "from gprm.datasets import Reconstructions, Paleogeography\n",
    "import pygmt\n",
    "import numpy as np\n",
    "from gprm.utils.create_gpml import gpml2gdf\n",
    "from gprm.utils import pmag\n",
    "\n",
    "import sys\n",
    "sys.path.append('..')\n",
    "import animators as anim\n",
    "import helper_functions as hf\n",
    "\n",
    "%load_ext autoreload\n",
    "%autoreload 2\n",
    "\n",
    "pygmt.config(GMT_VERBOSE='e')\n"
   ]
  },
  {
   "cell_type": "code",
   "execution_count": 2,
   "id": "f3913c62-375b-478b-9767-5dc92c01bf3c",
   "metadata": {},
   "outputs": [],
   "source": [
    "M2019 = Reconstructions.fetch_Muller2019()\n",
    "M2022 = Reconstructions.fetch_Muller2022()\n",
    "TC2017 = Reconstructions.fetch_TorsvikCocks2017()\n",
    "C2020 = Reconstructions.fetch_Clennett()\n",
    "Paleomap = Paleogeography.fetch_Paleomap(resolution='06m')\n",
    "\n",
    "#list(Paleomap.keys())"
   ]
  },
  {
   "cell_type": "code",
   "execution_count": null,
   "id": "4d588f7d-3379-4f65-9f4f-b00615e000a4",
   "metadata": {},
   "outputs": [],
   "source": [
    "for reconstruction_time in np.arange(540,-1,-1):\n",
    "    \n",
    "    fig = pygmt.Figure()\n",
    "    anim.paleogeography(fig, Paleomap, reconstruction_time)\n",
    "    anim.time_stamp(fig, reconstruction_time)\n",
    "    #fig.show()\n",
    "    fig.savefig('./sequence/paleogeography/sequence_{:0.0f}.png'.format(reconstruction_time))\n"
   ]
  },
  {
   "cell_type": "code",
   "execution_count": 10,
   "id": "0d5e1a05-5d75-4dcb-90d2-5333be197bb3",
   "metadata": {},
   "outputs": [
    {
     "name": "stderr",
     "output_type": "stream",
     "text": [
      "/Users/Simon/GIT/PlateTectonicTools/ptt/subduction_convergence.py:313: RuntimeWarning: Unable to find the subducting plate of the subducting sub-segment \"Aleutian and Bering Sea Masking Polygon\" at 0.001Ma.\n",
      "    Either the subduction polarity is not properly set or there are too many subducting plates sharing the sub-segment.\n",
      "    Ignoring current sub-segment.\n",
      "  warnings.warn(\n",
      "/Users/Simon/GIT/PlateTectonicTools/ptt/subduction_convergence.py:313: RuntimeWarning: Unable to find the subducting plate of the subducting sub-segment \"Hikurangi& Kermadec TR\" at 0.001Ma.\n",
      "    Either the subduction polarity is not properly set or there are too many subducting plates sharing the sub-segment.\n",
      "    Ignoring current sub-segment.\n",
      "  warnings.warn(\n",
      "/Users/Simon/GIT/PlateTectonicTools/ptt/subduction_convergence.py:313: RuntimeWarning: Unable to find the subducting plate of the subducting sub-segment \"Shirshov Ridge Subduction\" at 0.001Ma.\n",
      "    Either the subduction polarity is not properly set or there are too many subducting plates sharing the sub-segment.\n",
      "    Ignoring current sub-segment.\n",
      "  warnings.warn(\n",
      "/Users/Simon/GIT/PlateTectonicTools/ptt/subduction_convergence.py:313: RuntimeWarning: Unable to find the subducting plate of the subducting sub-segment \"South America trench taken from COB file\" at 0.001Ma.\n",
      "    Either the subduction polarity is not properly set or there are too many subducting plates sharing the sub-segment.\n",
      "    Ignoring current sub-segment.\n",
      "  warnings.warn(\n",
      "/Users/Simon/GIT/PlateTectonicTools/ptt/subduction_convergence.py:313: RuntimeWarning: Unable to find the subducting plate of the subducting sub-segment \"Mussau Trench\" at 0.001Ma.\n",
      "    Either the subduction polarity is not properly set or there are too many subducting plates sharing the sub-segment.\n",
      "    Ignoring current sub-segment.\n",
      "  warnings.warn(\n",
      "/Users/Simon/GIT/PlateTectonicTools/ptt/subduction_convergence.py:313: RuntimeWarning: Unable to find the subducting plate of the subducting sub-segment \"Maramuni Trench Test\" at 0.001Ma.\n",
      "    Either the subduction polarity is not properly set or there are too many subducting plates sharing the sub-segment.\n",
      "    Ignoring current sub-segment.\n",
      "  warnings.warn(\n"
     ]
    }
   ],
   "source": [
    "for reconstruction_time in np.arange(540,-1,-1):\n",
    "    \n",
    "    fig = pygmt.Figure()\n",
    "    anim.optimization(fig, M2022, reconstruction_time)\n",
    "    anim.time_stamp(fig, reconstruction_time)\n",
    "    #fig.show()\n",
    "    fig.savefig('./sequence/optimization/sequence_{:0.0f}.png'.format(reconstruction_time))\n"
   ]
  },
  {
   "cell_type": "code",
   "execution_count": 4,
   "id": "325bdfc7-ebf6-4663-8a6d-268af9060d7e",
   "metadata": {},
   "outputs": [],
   "source": [
    "TC_polygons = gpml2gdf(pygplates.FeatureCollection(TC2017.continent_polygons_files[0]))\n",
    "vgps_gdf = pmag.vgp_to_dataframe('../data/T2012_Mer21.gpml')\n",
    "vgps_gdf = TC2017.assign_plate_ids(vgps_gdf, polygons='static')\n",
    "\n",
    "for reconstruction_time in np.arange(540,-1,-1):\n",
    "    \n",
    "    fig = pygmt.Figure()\n",
    "    anim.apwp_reconstruction(fig, TC2017, reconstruction_time, vgps_gdf, color_polygons=TC_polygons)\n",
    "    anim.time_stamp(fig, reconstruction_time)\n",
    "    #fig.show()\n",
    "    fig.savefig('./sequence/apwp/sequence_{:0.0f}.png'.format(reconstruction_time))\n"
   ]
  },
  {
   "cell_type": "code",
   "execution_count": 6,
   "id": "dcc7151a-a639-4bb4-85ae-fe8c000fb33f",
   "metadata": {},
   "outputs": [],
   "source": [
    "#tm = hf.get_topological_model(M2019)    \n",
    "#time_spans = hf.get_time_spans(tm, initial_time=0, oldest_time=240, youngest_time=0)\n",
    "\n",
    "for reconstruction_time in np.arange(1,-1,-1):\n",
    "\n",
    "    fig = pygmt.Figure()\n",
    "    if reconstruction_time>240:\n",
    "        fig.basemap(projection=anim.DEFAULT_PROJECTION, region=anim.DEFAULT_REGION, frame=anim.DEFAULT_FRAME)\n",
    "    else:\n",
    "        anim.deforming_model(fig, M2019, reconstruction_time, time_spans, projection='W6i')\n",
    "    anim.time_stamp(fig, reconstruction_time)\n",
    "    #fig.show()\n",
    "    fig.savefig('./sequence/deformation/sequence_{:0.0f}.png'.format(reconstruction_time))\n"
   ]
  },
  {
   "cell_type": "code",
   "execution_count": 11,
   "id": "45544cde-fd54-4b8e-a1e1-fd9e6e1175a7",
   "metadata": {},
   "outputs": [],
   "source": [
    "M2022 = Reconstructions.fetch_Muller2022()\n",
    "\n",
    "for reconstruction_time in np.arange(540,-1,-1):\n",
    "    \n",
    "    fig = pygmt.Figure()\n",
    "    anim.continental_drift(fig, M2022, reconstruction_time)\n",
    "    anim.time_stamp(fig, reconstruction_time)\n",
    "    #fig.show()\n",
    "    fig.savefig('./sequence/continental_drift/sequence_{:0.0f}.png'.format(reconstruction_time))\n"
   ]
  },
  {
   "cell_type": "code",
   "execution_count": 8,
   "id": "71e4849a-fa6f-4910-a90a-4ba04068338d",
   "metadata": {},
   "outputs": [],
   "source": [
    "M2022 = Reconstructions.fetch_Muller2022()\n",
    "\n",
    "for reconstruction_time in np.arange(540,-1,-1):\n",
    "\n",
    "    fig = pygmt.Figure()\n",
    "    anim.topological_model(fig, M2022, reconstruction_time)\n",
    "    anim.time_stamp(fig, reconstruction_time)\n",
    "    #fig.show()\n",
    "    fig.savefig('./sequence/plate_tectonics/sequence_{:0.0f}.png'.format(reconstruction_time))\n",
    "\n"
   ]
  },
  {
   "cell_type": "code",
   "execution_count": null,
   "id": "9cc96f18-8549-40ca-853a-14b53c6afe95",
   "metadata": {},
   "outputs": [],
   "source": [
    "for reconstruction_time in np.arange(540,-1,-1):\n",
    "\n",
    "    fig = pygmt.Figure()\n",
    "    if reconstruction_time>170:\n",
    "        fig.basemap(projection=anim.DEFAULT_PROJECTION, region=anim.DEFAULT_REGION, frame=anim.DEFAULT_FRAME)\n",
    "    else:\n",
    "        anim.tomotectonic_model(fig, C2020, reconstruction_time, projection='W6i')\n",
    "    anim.time_stamp(fig, reconstruction_time)\n",
    "    #fig.show()\n",
    "    fig.savefig('./sequence/tomotectonic/sequence_{:0.0f}.png'.format(reconstruction_time))\n"
   ]
  },
  {
   "cell_type": "code",
   "execution_count": null,
   "id": "edcd451d-6acd-4d7b-80e1-b23613ecf5d6",
   "metadata": {},
   "outputs": [],
   "source": [
    "import xarray as xr\n",
    "\n",
    "cdat = xr.open_dataset(\n",
    "    '/Users/simon/Work/Climate/High_Resolution_Climate_Simulation_Dataset_540_Myr.nc',\n",
    "    decode_times=False)\n",
    "\n",
    "for reconstruction_time in np.arange(540,-1,-1):\n",
    "\n",
    "    fig = pygmt.Figure()\n",
    "    anim.climate_model(fig, cdat, 'T', reconstruction_time, background_grids=Paleomap)\n",
    "    anim.time_stamp(fig, reconstruction_time)\n",
    "    #fig.show()\n",
    "    fig.savefig('./sequence/climate_model/sequence_{:0.0f}.png'.format(reconstruction_time))\n",
    "\n",
    "    "
   ]
  },
  {
   "cell_type": "code",
   "execution_count": 5,
   "id": "8495ca8e-0ea7-4127-875f-358e4571dbf6",
   "metadata": {},
   "outputs": [],
   "source": [
    "for reconstruction_time in np.arange(540,-1,-1):\n",
    "    fig = pygmt.Figure()\n",
    "    anim.mantle_temperature(fig, reconstruction_time, M2022, \n",
    "                       path_to_grid_files='/Users/simon/Data/zenodo/OPT1_temperature_anomaly_grids_dimensional')\n",
    "    anim.time_stamp(fig, reconstruction_time)\n",
    "    #fig.show()\n",
    "    fig.savefig('./sequence/mantle_temperature/sequence_{:0.0f}.png'.format(reconstruction_time))\n"
   ]
  },
  {
   "cell_type": "code",
   "execution_count": null,
   "id": "04cc0d4b-f4f7-4722-bc11-d181dbead693",
   "metadata": {},
   "outputs": [],
   "source": [
    "tree_object = TC2017.platetree()\n",
    "\n",
    "for reconstruction_time in np.arange(540,-1,-1):\n",
    "\n",
    "    fig = pygmt.Figure()\n",
    "    anim.plate_hierarchy(fig, tree_object, TC2017, reconstruction_time)\n",
    "    anim.time_stamp(fig, reconstruction_time)\n",
    "    #fig.show()\n",
    "    fig.savefig('./sequence/plate_hierarchy/sequence_{:0.0f}.png'.format(reconstruction_time))\n"
   ]
  },
  {
   "cell_type": "code",
   "execution_count": null,
   "id": "a7303cc9-4234-4b3b-a28d-84e3989557c1",
   "metadata": {},
   "outputs": [],
   "source": [
    "LIP_centroids = pygplates.FeatureCollection('../data/CEED6_LIPCentersAround5Ma.gpml')\n",
    "kimberlites = pygplates.FeatureCollection('/Users/simon/Data/zenodo/Grabreck-et-al-Kimberlite_prospectivity_supplement/Kimberlite_eruption_locations/T18_centroids_since_640Ma_within_10Myr.gpml')\n",
    "kimberlites = TC2017.assign_plate_ids(kimberlites, polygons='continents')\n",
    "for feature in kimberlites:\n",
    "    feature.set_valid_time(feature.get_valid_time()[0]+5, feature.get_valid_time()[0]-5)\n",
    "\n",
    "    \n",
    "for reconstruction_time in np.arange(540,-1,-1):\n",
    "    fig = pygmt.Figure()\n",
    "    anim.LLSVP(fig, TC2017, reconstruction_time, LIP_centroids=LIP_centroids, kimberlites=kimberlites)\n",
    "    anim.time_stamp(fig, reconstruction_time)\n",
    "    #fig.show()\n",
    "    fig.savefig('./sequence/LLSVP/sequence_{:0.0f}.png'.format(reconstruction_time))\n"
   ]
  },
  {
   "cell_type": "code",
   "execution_count": null,
   "id": "31a7c060-a26f-4323-91f9-6a5c9b4562ce",
   "metadata": {},
   "outputs": [],
   "source": [
    "M2016 = Reconstructions.fetch_Matthews2016()\n",
    "grid_filename_template = '/Users/simon/GIT/agegrid-0.1/upload/Matthews++2016/seafloor_age_grids/M16_seafloor_age_mask_{:0.1f}Ma.nc'\n",
    "\n",
    "\n",
    "for reconstruction_time in np.arange(540,-1,-1):\n",
    "    fig = pygmt.Figure()\n",
    "    if reconstruction_time>410:\n",
    "        fig.basemap(projection=anim.DEFAULT_PROJECTION, region=anim.DEFAULT_REGION, frame=anim.DEFAULT_FRAME)\n",
    "    else:\n",
    "        anim.seafloor_age(fig, M2016, reconstruction_time, grid_filename_template, cmap='inferno')\n",
    "    anim.time_stamp(fig, reconstruction_time)\n",
    "    #fig.show()\n",
    "    fig.savefig('./sequence/seafloor_age/sequence_{:0.0f}.png'.format(reconstruction_time))\n",
    "    "
   ]
  },
  {
   "cell_type": "code",
   "execution_count": null,
   "id": "a629b3af-fc45-4f00-ab40-1d08e10ed6c7",
   "metadata": {},
   "outputs": [],
   "source": []
  }
 ],
 "metadata": {
  "kernelspec": {
   "display_name": "Python [conda env:pygmt7]",
   "language": "python",
   "name": "conda-env-pygmt7-py"
  },
  "language_info": {
   "codemirror_mode": {
    "name": "ipython",
    "version": 3
   },
   "file_extension": ".py",
   "mimetype": "text/x-python",
   "name": "python",
   "nbconvert_exporter": "python",
   "pygments_lexer": "ipython3",
   "version": "3.8.13"
  }
 },
 "nbformat": 4,
 "nbformat_minor": 5
}
