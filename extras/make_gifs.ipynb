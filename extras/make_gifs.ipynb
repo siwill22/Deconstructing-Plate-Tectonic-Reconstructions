{
 "cells": [
  {
   "cell_type": "code",
   "execution_count": 7,
   "id": "0faa5f5d-c64b-456f-b390-8800d3c14cff",
   "metadata": {},
   "outputs": [],
   "source": [
    "import moviepy.editor as mpy\n",
    "import numpy as np\n",
    "\n",
    "def create_gif(animation_name, max_time=540, min_time=0, time_step=1, resize=0.5):\n",
    "    sequence_filename = './sequence/{:s}/sequence_{:0.0f}.png'\n",
    "\n",
    "    frame_list = []\n",
    "    time_series = np.arange(max_time,min_time-time_step,-time_step)\n",
    "    for reconstruction_time in time_series:\n",
    "        frame_list.append(sequence_filename.format(animation_name,reconstruction_time))\n",
    "\n",
    "    #frame_list.reverse()\n",
    "    clip = mpy.ImageSequenceClip(frame_list, fps=10).resize(resize)\n",
    "    clip.write_gif('./sequence/gifs/{:s}.gif'.format(animation_name))\n",
    "    #clip.write_videofile('./sequence/mp4s/{:s}.mp4'.format(animation_name))\n",
    "\n"
   ]
  },
  {
   "cell_type": "code",
   "execution_count": 8,
   "id": "0fe96101-75aa-4677-adb9-dfd80d23a780",
   "metadata": {},
   "outputs": [
    {
     "name": "stdout",
     "output_type": "stream",
     "text": [
      "MoviePy - Building file ./sequence/gifs/plate_tectonics.gif with imageio.\n"
     ]
    },
    {
     "name": "stderr",
     "output_type": "stream",
     "text": [
      "                                                                                                                          \r"
     ]
    }
   ],
   "source": [
    "create_gif('plate_tectonics')\n"
   ]
  },
  {
   "cell_type": "code",
   "execution_count": 9,
   "id": "cd6c9d32-5790-415f-877a-7df86e41a35c",
   "metadata": {},
   "outputs": [
    {
     "name": "stdout",
     "output_type": "stream",
     "text": [
      "MoviePy - Building file ./sequence/gifs/apwp.gif with imageio.\n"
     ]
    },
    {
     "name": "stderr",
     "output_type": "stream",
     "text": [
      "                                                                                                                          \r"
     ]
    }
   ],
   "source": [
    "create_gif('apwp')\n"
   ]
  },
  {
   "cell_type": "code",
   "execution_count": 10,
   "id": "e15d3216-4452-4323-83fb-6735d4d5cfab",
   "metadata": {},
   "outputs": [
    {
     "name": "stdout",
     "output_type": "stream",
     "text": [
      "MoviePy - Building file ./sequence/gifs/optimization.gif with imageio.\n"
     ]
    },
    {
     "name": "stderr",
     "output_type": "stream",
     "text": [
      "                                                                                                                          \r"
     ]
    }
   ],
   "source": [
    "create_gif('optimization')\n"
   ]
  },
  {
   "cell_type": "code",
   "execution_count": 11,
   "id": "bab2d406-0a4b-4b58-9da7-af0a1dceb607",
   "metadata": {},
   "outputs": [
    {
     "name": "stdout",
     "output_type": "stream",
     "text": [
      "MoviePy - Building file ./sequence/gifs/continental_drift.gif with imageio.\n"
     ]
    },
    {
     "name": "stderr",
     "output_type": "stream",
     "text": [
      "                                                                                                                          \r"
     ]
    }
   ],
   "source": [
    "create_gif('continental_drift')\n"
   ]
  },
  {
   "cell_type": "code",
   "execution_count": 12,
   "id": "1430149e-64e6-4d7f-a914-fc9ee679afa6",
   "metadata": {},
   "outputs": [
    {
     "name": "stdout",
     "output_type": "stream",
     "text": [
      "MoviePy - Building file ./sequence/gifs/LLSVP.gif with imageio.\n"
     ]
    },
    {
     "name": "stderr",
     "output_type": "stream",
     "text": [
      "                                                                                                                          \r"
     ]
    }
   ],
   "source": [
    "create_gif('LLSVP')\n"
   ]
  },
  {
   "cell_type": "code",
   "execution_count": 13,
   "id": "3d57aac4-a9d7-4e1f-82ca-495e7bb362ad",
   "metadata": {},
   "outputs": [
    {
     "name": "stdout",
     "output_type": "stream",
     "text": [
      "MoviePy - Building file ./sequence/gifs/mantle_temperature.gif with imageio.\n"
     ]
    },
    {
     "name": "stderr",
     "output_type": "stream",
     "text": [
      "                                                                                                                          \r"
     ]
    }
   ],
   "source": [
    "create_gif('mantle_temperature')\n"
   ]
  },
  {
   "cell_type": "code",
   "execution_count": 14,
   "id": "42328e0a-2dec-4d88-80fd-135898c83199",
   "metadata": {},
   "outputs": [
    {
     "name": "stdout",
     "output_type": "stream",
     "text": [
      "MoviePy - Building file ./sequence/gifs/paleogeography.gif with imageio.\n"
     ]
    },
    {
     "name": "stderr",
     "output_type": "stream",
     "text": [
      "                                                                                                                          \r"
     ]
    }
   ],
   "source": [
    "create_gif('paleogeography')\n"
   ]
  },
  {
   "cell_type": "code",
   "execution_count": 15,
   "id": "86037a6f-14aa-4f48-a1ed-4db61119d6f8",
   "metadata": {},
   "outputs": [
    {
     "name": "stdout",
     "output_type": "stream",
     "text": [
      "MoviePy - Building file ./sequence/gifs/plate_hierarchy.gif with imageio.\n"
     ]
    },
    {
     "name": "stderr",
     "output_type": "stream",
     "text": [
      "                                                                                                                          \r"
     ]
    }
   ],
   "source": [
    "create_gif('plate_hierarchy')\n"
   ]
  },
  {
   "cell_type": "code",
   "execution_count": 16,
   "id": "2e354372-6732-489f-a114-b5bbfd331e71",
   "metadata": {},
   "outputs": [
    {
     "name": "stdout",
     "output_type": "stream",
     "text": [
      "MoviePy - Building file ./sequence/gifs/climate_model.gif with imageio.\n"
     ]
    },
    {
     "name": "stderr",
     "output_type": "stream",
     "text": [
      "                                                                                                                          \r"
     ]
    }
   ],
   "source": [
    "create_gif('climate_model')\n"
   ]
  },
  {
   "cell_type": "code",
   "execution_count": 20,
   "id": "d05e6575-503a-47cc-a31b-b9242f14189e",
   "metadata": {},
   "outputs": [
    {
     "name": "stdout",
     "output_type": "stream",
     "text": [
      "MoviePy - Building file ./sequence/gifs/deformation.gif with imageio.\n"
     ]
    },
    {
     "name": "stderr",
     "output_type": "stream",
     "text": [
      "                                                                                                                          \r"
     ]
    }
   ],
   "source": [
    "create_gif('deformation')\n"
   ]
  },
  {
   "cell_type": "code",
   "execution_count": 18,
   "id": "c7c3d3e3-8cb8-42ba-9eb1-7b1e889c2fea",
   "metadata": {},
   "outputs": [
    {
     "name": "stdout",
     "output_type": "stream",
     "text": [
      "MoviePy - Building file ./sequence/gifs/tomotectonic.gif with imageio.\n"
     ]
    },
    {
     "name": "stderr",
     "output_type": "stream",
     "text": [
      "                                                                                                                          \r"
     ]
    }
   ],
   "source": [
    "create_gif('tomotectonic')\n"
   ]
  },
  {
   "cell_type": "code",
   "execution_count": 19,
   "id": "f6b99e3f-8d2c-4d7c-bb5d-5333b4107b42",
   "metadata": {},
   "outputs": [
    {
     "name": "stdout",
     "output_type": "stream",
     "text": [
      "MoviePy - Building file ./sequence/gifs/seafloor_age.gif with imageio.\n"
     ]
    },
    {
     "name": "stderr",
     "output_type": "stream",
     "text": [
      "                                                                                                                          \r"
     ]
    }
   ],
   "source": [
    "create_gif('seafloor_age')\n"
   ]
  },
  {
   "cell_type": "code",
   "execution_count": null,
   "id": "40edad79-97ad-49c1-b956-3fb9fad20cf2",
   "metadata": {},
   "outputs": [],
   "source": []
  }
 ],
 "metadata": {
  "kernelspec": {
   "display_name": "Python [conda env:pygmt7]",
   "language": "python",
   "name": "conda-env-pygmt7-py"
  },
  "language_info": {
   "codemirror_mode": {
    "name": "ipython",
    "version": 3
   },
   "file_extension": ".py",
   "mimetype": "text/x-python",
   "name": "python",
   "nbconvert_exporter": "python",
   "pygments_lexer": "ipython3",
   "version": "3.8.13"
  }
 },
 "nbformat": 4,
 "nbformat_minor": 5
}
