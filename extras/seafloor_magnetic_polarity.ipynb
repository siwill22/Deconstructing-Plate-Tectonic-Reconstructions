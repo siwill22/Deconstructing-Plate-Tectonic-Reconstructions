{
 "cells": [
  {
   "cell_type": "code",
   "execution_count": 3,
   "id": "4ea9f610-f142-4604-9a36-e2b0768f13e0",
   "metadata": {},
   "outputs": [],
   "source": [
    "from gprm.datasets import Reconstructions\n",
    "import pygmt\n",
    "import numpy as np\n",
    "import xarray as xr\n",
    "\n"
   ]
  },
  {
   "cell_type": "code",
   "execution_count": 4,
   "id": "d33efe0b-d6bc-4428-87e7-6fa9e9285a8a",
   "metadata": {},
   "outputs": [],
   "source": [
    "grid_filename_template = '/Users/simon/GIT/ghf/Muller_etal_2019_Tectonics_v2.0_netCDF/Muller_etal_2019_Tectonics_v2.0_AgeGrid-{:0.0f}.nc'\n",
    "\n",
    "M2019 = Reconstructions.fetch_Muller2019()\n"
   ]
  },
  {
   "cell_type": "code",
   "execution_count": 8,
   "id": "58e6572b-41fd-4dca-8ba3-a73b02312adb",
   "metadata": {},
   "outputs": [
    {
     "name": "stderr",
     "output_type": "stream",
     "text": [
      "grdimage [WARNING]: Longitude range too small; geographic boundary condition changed to natural.\n",
      "text [WARNING]: Vertical text justification not set, defaults to B(ottom)\n",
      "grdimage [WARNING]: Longitude range too small; geographic boundary condition changed to natural.\n",
      "text [WARNING]: Vertical text justification not set, defaults to B(ottom)\n",
      "grdimage [WARNING]: Longitude range too small; geographic boundary condition changed to natural.\n",
      "text [WARNING]: Vertical text justification not set, defaults to B(ottom)\n"
     ]
    }
   ],
   "source": [
    "#reconstruction_time = 120.\n",
    "reconstruction_model = M2019\n",
    "region = 'd'\n",
    "projection = 'W180/15c'\n",
    "\n",
    "\n",
    "for reconstruction_time in np.arange(101,98,-1):\n",
    "    \n",
    "    if reconstruction_time==0:\n",
    "        reconstruction_time=0.00001\n",
    "\n",
    "    # prepare the data to be plotted\n",
    "    absolute_age = xr.load_dataarray(grid_filename_template.format(reconstruction_time)) + reconstruction_time\n",
    "\n",
    "    reconstructed_continents = reconstruction_model.polygon_snapshot('continents', reconstruction_time)\n",
    "    reconstructed_plates = reconstruction_model.plate_snapshot(reconstruction_time)\n",
    "\n",
    "    # create the figure\n",
    "    fig = pygmt.Figure()\n",
    "    fig.basemap(region=region, projection=projection, frame='afg')\n",
    "\n",
    "    pygmt.makecpt(cmap='/Users/simon/GIT/OceanVIM/notebooks/GeeK07_bw.cpt')\n",
    "    fig.grdimage(grid=absolute_age, \n",
    "                 cmap=True, transparency=20, interpolation='l', nan_transparent=True)\n",
    "\n",
    "    reconstructed_continents.plot(fig, color='pink3', pen=None, \n",
    "                                      region=region, transparency=20)\n",
    "    reconstructed_plates.plot_subduction_zones(fig, color='red', pen='0.2p,darkred')\n",
    "    reconstructed_plates.plot_mid_ocean_ridges(fig, pen='0.3p,orange')\n",
    "\n",
    "    fig.text(x=0.25,y=0.88,text='{:0.0f} Ma'.format(reconstruction_time),\n",
    "             region='0/1/0/1', projection='x8c', font='16p', justify='R', no_clip=True)\n",
    "\n",
    "    fig.savefig('./plots/seafloor_polarity_{:0.0f}Ma.jpg'.format(reconstruction_time))\n",
    "    #fig.show(width=1000)"
   ]
  },
  {
   "cell_type": "code",
   "execution_count": null,
   "id": "489c5394-e9b5-4999-a318-73c1b6dcded9",
   "metadata": {},
   "outputs": [],
   "source": []
  }
 ],
 "metadata": {
  "kernelspec": {
   "display_name": "Python [conda env:pygmt7]",
   "language": "python",
   "name": "conda-env-pygmt7-py"
  },
  "language_info": {
   "codemirror_mode": {
    "name": "ipython",
    "version": 3
   },
   "file_extension": ".py",
   "mimetype": "text/x-python",
   "name": "python",
   "nbconvert_exporter": "python",
   "pygments_lexer": "ipython3",
   "version": "3.8.13"
  }
 },
 "nbformat": 4,
 "nbformat_minor": 5
}
