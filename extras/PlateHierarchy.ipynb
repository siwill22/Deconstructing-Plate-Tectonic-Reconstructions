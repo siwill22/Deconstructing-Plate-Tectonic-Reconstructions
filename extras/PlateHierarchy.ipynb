{
 "cells": [
  {
   "cell_type": "code",
   "execution_count": 1,
   "id": "158c8f15-0c2d-4557-8e41-e5973d07517b",
   "metadata": {},
   "outputs": [],
   "source": [
    "%load_ext autoreload\n",
    "%autoreload 2\n",
    "\n",
    "import numpy as np\n",
    "from gprm.datasets import Reconstructions\n",
    "import pygmt\n"
   ]
  },
  {
   "cell_type": "code",
   "execution_count": null,
   "id": "563e47a3-c11c-4a70-9c42-de6c51a98f2f",
   "metadata": {},
   "outputs": [],
   "source": [
    "M2019 = Reconstructions.fetch_Muller2019()\n",
    "TC2017 = Reconstructions.fetch_TorsvikCocks2017()\n",
    "DT2014 = Reconstructions.fetch_DomeierTorsvik2014()\n"
   ]
  },
  {
   "cell_type": "code",
   "execution_count": null,
   "id": "d537c458-6f12-42b8-b2c6-07faddf6bbe4",
   "metadata": {},
   "outputs": [],
   "source": [
    "reconstruction_model = DT2014\n",
    "\n",
    "tree_object = reconstruction_model.platetree()\n",
    "\n",
    "reconstruction_time = 400\n",
    "fig = pygmt.Figure()\n",
    "fig.basemap(region='d', projection='W6i', frame='af')\n",
    "\n",
    "reconstruction_model.polygon_snapshot('continents', reconstruction_time).plot(fig, color='gray60', pen='0.2p,gray80', transparency=30)\n",
    "reconstructed_plates = reconstruction_model.plate_snapshot(reconstruction_time)\n",
    "reconstructed_plates.plot_polygons(fig, pen='1p,gray50', transparency=60)\n",
    "\n",
    "tree_object.plot_gmt(fig, reconstruction_time, polygons='static',\n",
    "                     node_color='dodgerblue', root_node_style='a0.5c')\n",
    "\n",
    "fig.legend(transparency=20, position='JBR+jBR+o-0.1c/-0.3c', box='+gwhite+p0.5p')\n",
    "fig.text(x=0.05,y=0.92,text='{:0.0f} Ma'.format(reconstruction_time),\n",
    "                 region='0/1/0/1', projection='x8c', font='16p', no_clip=True)\n",
    "#fig.savefig('./figures/hierarchy_paleozoic.pdf')\n",
    "fig.show(width=500)\n"
   ]
  },
  {
   "cell_type": "code",
   "execution_count": null,
   "id": "2dbdf7fb-d1d2-486b-9984-036834bbab1e",
   "metadata": {},
   "outputs": [],
   "source": [
    "reconstruction_model = M2019\n",
    "\n",
    "tree_object = reconstruction_model.platetree()\n",
    "\n",
    "reconstruction_time = 100\n",
    "fig = pygmt.Figure()\n",
    "fig.basemap(region='d', projection='W6i', frame='af')\n",
    "\n",
    "reconstruction_model.polygon_snapshot('continents', reconstruction_time).plot(fig, color='gray60', pen='0.2p,gray80', transparency=30)\n",
    "reconstructed_plates = reconstruction_model.plate_snapshot(reconstruction_time)\n",
    "reconstructed_plates.plot_mid_ocean_ridges(fig, pen='1p,gray60', transparency=10)\n",
    "reconstructed_plates.plot_other_boundaries(fig, pen='0.7p,gray60', transparency=40)\n",
    "reconstructed_plates.plot_subduction_zones(fig, pen='1p,gray50', gap=8, size=3)\n",
    "reconstructed_plates.plot_deformation_zones(fig, transparency=50)\n",
    "\n",
    "tree_object.plot_gmt(fig, reconstruction_time, polygons='dynamic',\n",
    "                     node_color='dodgerblue', root_node_style='a0.5c')\n",
    "\n",
    "fig.legend(transparency=20, position='JBR+jBR+o-0.1c/-0.3c', box='+gwhite+p0.5p')\n",
    "fig.text(x=0.05,y=0.92,text='{:0.0f} Ma'.format(reconstruction_time),\n",
    "                 region='0/1/0/1', projection='x8c', font='16p', no_clip=True)\n",
    "#fig.savefig('./figures/hierarchy_mesozoic.pdf')\n",
    "fig.show(width=500)\n"
   ]
  },
  {
   "cell_type": "code",
   "execution_count": null,
   "id": "0d0abd04-6592-461a-9672-992bb5dc6fd2",
   "metadata": {},
   "outputs": [],
   "source": []
  }
 ],
 "metadata": {
  "kernelspec": {
   "display_name": "Python [conda env:pygmt7]",
   "language": "python",
   "name": "conda-env-pygmt7-py"
  },
  "language_info": {
   "codemirror_mode": {
    "name": "ipython",
    "version": 3
   },
   "file_extension": ".py",
   "mimetype": "text/x-python",
   "name": "python",
   "nbconvert_exporter": "python",
   "pygments_lexer": "ipython3",
   "version": "3.8.13"
  }
 },
 "nbformat": 4,
 "nbformat_minor": 5
}
