{
 "cells": [
  {
   "cell_type": "code",
   "execution_count": null,
   "id": "5614d5d3-b138-4f1b-a9fc-dcc48c44d21f",
   "metadata": {},
   "outputs": [],
   "source": [
    "import pygplates\n",
    "import pygmt\n",
    "import pandas as pd\n",
    "import numpy as np\n",
    "#import geopandas as gpd\n",
    "\n",
    "%matplotlib inline\n",
    "%load_ext autoreload\n",
    "%autoreload 2\n",
    "\n",
    "print(pygplates.__version__)\n",
    "\n",
    "from gprm import ReconstructionModel, SubductionConvergence, PointDistributionOnSphere\n",
    "from gprm.datasets import Reconstructions\n",
    "#from gprm.utils.create_gpml import gdf2gpml, gpml2gdf\n"
   ]
  },
  {
   "cell_type": "code",
   "execution_count": null,
   "id": "9870b58a-f658-4677-98c7-9f805e6a5b7b",
   "metadata": {},
   "outputs": [],
   "source": [
    "M2019 = Reconstructions.fetch_Muller2019()\n"
   ]
  },
  {
   "cell_type": "code",
   "execution_count": null,
   "id": "1c2d33b2-0383-46b0-8bbd-776015654a6f",
   "metadata": {},
   "outputs": [],
   "source": [
    "# compute the subduction zone kinematics for a single time snapshot\n",
    "# results are returned in a 'SubductionConvergence' class object\n",
    "\n",
    "reconstruction_time = 100.\n",
    "\n",
    "subduction_kinematics = SubductionConvergence(M2019, reconstruction_time, threshold_sampling_distance_radians=0.02)\n",
    "\n",
    "mr = np.asarray(subduction_kinematics.df['migr_rate'], dtype=np.float64)\n",
    "mo = np.asarray(subduction_kinematics.df['migr_obliq'], dtype=np.float64)\n",
    "\n",
    "subduction_kinematics.df['ortho_migr_rate'] = pd.Series(mr*np.sin(np.radians(np.abs(mo))), index=subduction_kinematics.df.index)\n",
    "\n",
    "#subduction_kinematics.plot('mr')"
   ]
  },
  {
   "cell_type": "code",
   "execution_count": null,
   "id": "2527072a-c9ae-4a3c-b13a-2ae82afeaa2c",
   "metadata": {},
   "outputs": [],
   "source": [
    "reconstructed_plates = M2019.plate_snapshot(reconstruction_time)\n",
    "\n",
    "\n",
    "velocity_domain = PointDistributionOnSphere(distribution_type='healpix', N=32)\n",
    "velocity_field = reconstructed_plates.velocity_field(velocity_domain_features=[velocity_domain.meshnode_feature])\n",
    "velgrd = velocity_field.to_grid(spacing='0.25d')\n",
    "\n",
    "velocity_domain = PointDistributionOnSphere(distribution_type='healpix', N=8)\n",
    "velocity_field = reconstructed_plates.velocity_field(velocity_domain_features=[velocity_domain.meshnode_feature])\n",
    "\n",
    "\n",
    "scaling=10\n",
    "tmp = np.vstack((subduction_kinematics.df.lon,\n",
    "                 subduction_kinematics.df.lat,\n",
    "                 subduction_kinematics.df.arc_azimuth+180,\n",
    "                 subduction_kinematics.df.ortho_migr_rate/scaling)).T\n",
    "\n",
    "fig = pygmt.Figure()\n",
    "fig.basemap(region='d', projection='W6i', frame='afg')\n",
    "\n",
    "pygmt.makecpt(cmap='magma', series=[0,100,10], background='o', reverse=False, transparency=50)\n",
    "fig.grdimage(grid=velgrd, cmap=True, transparency=75)\n",
    "\n",
    "M2019.polygon_snapshot('continents', reconstruction_time).plot(fig, transparency=70, pen=None, color='gray20')\n",
    "\n",
    "reconstructed_plates.plot_mid_ocean_ridges(fig, pen='1p,white', transparency=10)\n",
    "reconstructed_plates.plot_other_boundaries(fig, pen='0.7p,gray50', transparency=40)\n",
    "\n",
    "velocity_field.plot(fig, scaling=300., pen=\"0.7p,gray40\", color='gray40',\n",
    "                    style='V0.15c+e+a45+ggray40', transparency=30)\n",
    "\n",
    "with pygmt.config(FONT_ANNOT_PRIMARY='8p', FONT_LABEL='10p'):\n",
    "    fig.colorbar(position='JBL+jBL+o0.0c+w3.5c/0.3c+h', transparency=20, frame=['x+lPlate Velocity [mm/yr]'])#, box='+gwhite+p0.5p')\n",
    "\n",
    "fig.plot(x=subduction_kinematics.df.lon,\n",
    "         y=subduction_kinematics.df.lat,\n",
    "         style='c0.33c', color='gray20', transparency=30)\n",
    "\n",
    "pygmt.makecpt(cmap='polar', series=[-60,60,10], background='o', reverse=True)\n",
    "fig.plot(x=subduction_kinematics.df.lon,\n",
    "         y=subduction_kinematics.df.lat,\n",
    "         color=subduction_kinematics.df.ortho_migr_rate*10,\n",
    "         style='c0.25c', cmap=True, transparency=50)\n",
    "with pygmt.config(FONT_ANNOT_PRIMARY='8p', FONT_LABEL='10p'):\n",
    "    fig.colorbar(position='JBR+jBR+o0.0c+w3.5c/0.3c+h', frame=['x+lTrench Migration [mm/yr]'])#, box='+gwhite+p0.5p')\n",
    "\n",
    "\n",
    "reconstructed_plates.plot_subduction_zones(fig, pen='1p,black', gap=8, size=3)\n",
    "\n",
    "#fig.savefig('./figures/optimization.png')\n",
    "fig.show(width=1000)\n",
    "\n"
   ]
  },
  {
   "cell_type": "code",
   "execution_count": null,
   "id": "07a52556-d8f1-486e-b7db-a18e0f4ca523",
   "metadata": {},
   "outputs": [],
   "source": []
  }
 ],
 "metadata": {
  "kernelspec": {
   "display_name": "Python [conda env:pygmt7]",
   "language": "python",
   "name": "conda-env-pygmt7-py"
  },
  "language_info": {
   "codemirror_mode": {
    "name": "ipython",
    "version": 3
   },
   "file_extension": ".py",
   "mimetype": "text/x-python",
   "name": "python",
   "nbconvert_exporter": "python",
   "pygments_lexer": "ipython3",
   "version": "3.8.13"
  }
 },
 "nbformat": 4,
 "nbformat_minor": 5
}
