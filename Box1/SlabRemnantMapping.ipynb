{
 "cells": [
  {
   "cell_type": "code",
   "execution_count": null,
   "id": "5614d5d3-b138-4f1b-a9fc-dcc48c44d21f",
   "metadata": {},
   "outputs": [],
   "source": [
    "import pygplates\n",
    "import pygmt\n",
    "#import pandas as pd\n",
    "#import numpy as np\n",
    "#import geopandas as gpd\n",
    "\n",
    "%matplotlib inline\n",
    "%load_ext autoreload\n",
    "%autoreload 2\n",
    "\n",
    "print(pygplates.__version__)\n",
    "\n",
    "from gprm.datasets import Reconstructions\n",
    "from gprm.utils.create_gpml import gdf2gpml, gpml2gdf\n"
   ]
  },
  {
   "cell_type": "code",
   "execution_count": null,
   "id": "9870b58a-f658-4677-98c7-9f805e6a5b7b",
   "metadata": {},
   "outputs": [],
   "source": [
    "M2019 = Reconstructions.fetch_Muller2019()\n"
   ]
  },
  {
   "cell_type": "code",
   "execution_count": null,
   "id": "b2c4af5f-5f06-4f65-8a5a-0e8818ae2622",
   "metadata": {},
   "outputs": [],
   "source": [
    "\n",
    "reconstruction_time = 100.\n",
    "\n",
    "votemap = pygmt.xyz2grd('/Users/simon/Data/SeismicTomography/votemaps/SubMachine_votemap_depth_slice_1200.txt',\n",
    "                        region='d', spacing='0.5d')\n",
    "votemap_filt = pygmt.grdfilter(grid=votemap, distance=2, filter='g500', coltypes='g')\n",
    "\n",
    "fig = pygmt.Figure()\n",
    "fig.basemap(region='d', projection='W6i', frame='afg')\n",
    "\n",
    "pygmt.makecpt(cmap='SCM/davos', series=[0.5,18.5,3], background='o',reverse=True)\n",
    "fig.grdimage(grid=votemap_filt, cmap=True, transparency=20)\n",
    "\n",
    "\n",
    "M2019.polygon_snapshot('continents', reconstruction_time).plot(fig, transparency=75, pen=None, color='gray40')\n",
    "\n",
    "reconstructed_plates = M2019.plate_snapshot(reconstruction_time)\n",
    "reconstructed_plates.plot_subduction_zones(fig, pen='1.2p,black', gap=9, size=3)\n",
    "\n",
    "with pygmt.config(FONT_ANNOT_PRIMARY='8p', FONT_LABEL='10p'):\n",
    "    fig.colorbar(position='JBR+jBR+o0.0c+w7.0c/0.3c+h', frame=['xa1+l1200km Mantle Votemap'])\n",
    "\n",
    "#fig.savefig('./figures/slab_fitting.png')\n",
    "fig.show(width=1000)\n"
   ]
  },
  {
   "cell_type": "code",
   "execution_count": null,
   "id": "07a52556-d8f1-486e-b7db-a18e0f4ca523",
   "metadata": {},
   "outputs": [],
   "source": []
  }
 ],
 "metadata": {
  "kernelspec": {
   "display_name": "Python [conda env:pygmt7]",
   "language": "python",
   "name": "conda-env-pygmt7-py"
  },
  "language_info": {
   "codemirror_mode": {
    "name": "ipython",
    "version": 3
   },
   "file_extension": ".py",
   "mimetype": "text/x-python",
   "name": "python",
   "nbconvert_exporter": "python",
   "pygments_lexer": "ipython3",
   "version": "3.8.13"
  }
 },
 "nbformat": 4,
 "nbformat_minor": 5
}
